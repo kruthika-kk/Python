{
 "cells": [
  {
   "cell_type": "markdown",
   "id": "7bd297d4-7784-4472-a01d-5204e879c42c",
   "metadata": {},
   "source": [
    "Set in Python\n",
    "Duplicates are not allowed\n",
    "the elements are unordered collection when you try to retrieve the set data\n",
    "indexes are not supported in Set. i.e a[1] is not allowed or not supported"
   ]
  },
  {
   "cell_type": "code",
   "execution_count": 1,
   "id": "51b80ddd-60f7-42c7-b196-9ea98bdc0700",
   "metadata": {
    "tags": []
   },
   "outputs": [
    {
     "name": "stdout",
     "output_type": "stream",
     "text": [
      "{50, 20, 40, 10, 60, 30}\n"
     ]
    }
   ],
   "source": [
    "a={10,20,30,40,50,60}\n",
    "print(a)  #unordered collection of items"
   ]
  },
  {
   "cell_type": "code",
   "execution_count": 2,
   "id": "8f81fa0a-f86e-4c6c-94c0-432aa9a86d0f",
   "metadata": {
    "tags": []
   },
   "outputs": [
    {
     "name": "stdout",
     "output_type": "stream",
     "text": [
      "{50, 645, 89, 363, 76}\n"
     ]
    }
   ],
   "source": [
    "b={50,50,50,50,89,89,76,645,363}\n",
    "print(b)  #Duplicates are not allowed , It print only once"
   ]
  },
  {
   "cell_type": "markdown",
   "id": "a444ae56-b0a4-4470-8f95-5c720b11e107",
   "metadata": {},
   "source": [
    "Dictionary\n",
    "Collection of keys and values\n"
   ]
  },
  {
   "cell_type": "code",
   "execution_count": 3,
   "id": "08a5a475-045b-41ff-8548-c2417c19756c",
   "metadata": {
    "tags": []
   },
   "outputs": [
    {
     "name": "stdout",
     "output_type": "stream",
     "text": [
      "{1: 'Good', 2: 'Morning', 3: 'People'}\n"
     ]
    }
   ],
   "source": [
    "Dict={1:'Good', 2:'Morning', 3:'People'}\n",
    "print(Dict)"
   ]
  },
  {
   "cell_type": "code",
   "execution_count": 4,
   "id": "c0472126-93ab-48fb-b3fe-8f7fa7f9dc97",
   "metadata": {
    "tags": []
   },
   "outputs": [
    {
     "name": "stdout",
     "output_type": "stream",
     "text": [
      "Good\n"
     ]
    }
   ],
   "source": [
    "print(Dict[1])"
   ]
  },
  {
   "cell_type": "markdown",
   "id": "d4ba3a99-63e9-4876-bab5-ee825ed71ab5",
   "metadata": {},
   "source": [
    "Conversion\n",
    "You can convert any data value as follows"
   ]
  },
  {
   "cell_type": "code",
   "execution_count": 5,
   "id": "41d88c13-edf8-4563-b617-cfb52dc827e9",
   "metadata": {
    "tags": []
   },
   "outputs": [
    {
     "data": {
      "text/plain": [
       "17.0"
      ]
     },
     "execution_count": 5,
     "metadata": {},
     "output_type": "execute_result"
    }
   ],
   "source": [
    "float(17)"
   ]
  },
  {
   "cell_type": "code",
   "execution_count": 6,
   "id": "66c60558-75fc-4efd-8e25-7bf142a49af7",
   "metadata": {
    "tags": []
   },
   "outputs": [
    {
     "data": {
      "text/plain": [
       "100"
      ]
     },
     "execution_count": 6,
     "metadata": {},
     "output_type": "execute_result"
    }
   ],
   "source": [
    "int(100.5)"
   ]
  },
  {
   "cell_type": "code",
   "execution_count": 7,
   "id": "590ed7f0-7b23-4a0b-ae14-f8e11d37c4a6",
   "metadata": {
    "tags": []
   },
   "outputs": [
    {
     "data": {
      "text/plain": [
       "'20'"
      ]
     },
     "execution_count": 7,
     "metadata": {},
     "output_type": "execute_result"
    }
   ],
   "source": [
    "str(20)"
   ]
  },
  {
   "cell_type": "code",
   "execution_count": 10,
   "id": "e701553a-7362-419a-abb9-f290b1f9be7e",
   "metadata": {
    "tags": []
   },
   "outputs": [
    {
     "name": "stdout",
     "output_type": "stream",
     "text": [
      "Congratulations! Kruthika for getting offered in Amazon\n"
     ]
    }
   ],
   "source": [
    "user=\"Kruthika for getting offered in Amazon\"\n",
    "print(\"Congratulations! \" + user)"
   ]
  },
  {
   "cell_type": "code",
   "execution_count": 13,
   "id": "6f3ffa08-37ab-48bd-8680-5e6e56cfff09",
   "metadata": {
    "tags": []
   },
   "outputs": [
    {
     "data": {
      "text/plain": [
       "['G', 'o', 'o', 'd']"
      ]
     },
     "execution_count": 13,
     "metadata": {},
     "output_type": "execute_result"
    }
   ],
   "source": [
    "list(\"Good\")  #Convert String to list using list() method"
   ]
  },
  {
   "cell_type": "markdown",
   "id": "4601e4a9-e3a0-4536-80d9-3e597196bfec",
   "metadata": {},
   "source": [
    "Operator\n",
    "They are special symbols in python that carryout arithmetic or logical computation. The value that operator operates is called as operands."
   ]
  },
  {
   "cell_type": "code",
   "execution_count": 15,
   "id": "9f49de24-90d0-4532-a0a4-4e481a8606af",
   "metadata": {
    "tags": []
   },
   "outputs": [
    {
     "name": "stdout",
     "output_type": "stream",
     "text": [
      "30\n"
     ]
    }
   ],
   "source": [
    "x,y=10,20\n",
    "print(x+y)"
   ]
  },
  {
   "cell_type": "code",
   "execution_count": 16,
   "id": "f98c5f0f-d3a5-4d41-ba19-4adbeeaf3894",
   "metadata": {
    "tags": []
   },
   "outputs": [
    {
     "name": "stdout",
     "output_type": "stream",
     "text": [
      "-10\n"
     ]
    }
   ],
   "source": [
    "print(x-y)"
   ]
  },
  {
   "cell_type": "code",
   "execution_count": 17,
   "id": "3318d0de-7e71-4c7b-99d1-9ae441bd9c14",
   "metadata": {
    "tags": []
   },
   "outputs": [
    {
     "name": "stdout",
     "output_type": "stream",
     "text": [
      "200\n"
     ]
    }
   ],
   "source": [
    "print(x*y)"
   ]
  },
  {
   "cell_type": "code",
   "execution_count": 18,
   "id": "98c9855b-4b46-4614-98c5-5b66cde3036f",
   "metadata": {
    "tags": []
   },
   "outputs": [
    {
     "name": "stdout",
     "output_type": "stream",
     "text": [
      "0.5\n"
     ]
    }
   ],
   "source": [
    "print(x/y)"
   ]
  },
  {
   "cell_type": "code",
   "execution_count": 19,
   "id": "fcdb3705-3b60-4db0-bb82-55e24b778498",
   "metadata": {
    "tags": []
   },
   "outputs": [
    {
     "name": "stdout",
     "output_type": "stream",
     "text": [
      "100000000000000000000\n"
     ]
    }
   ],
   "source": [
    "print(x**y)  # x power y"
   ]
  },
  {
   "cell_type": "code",
   "execution_count": 20,
   "id": "54ba7045-b582-4c9f-949d-d7762aaa78c7",
   "metadata": {
    "tags": []
   },
   "outputs": [
    {
     "name": "stdout",
     "output_type": "stream",
     "text": [
      "0\n"
     ]
    }
   ],
   "source": [
    "print(x//y)  # x divides y and then taking the floor value"
   ]
  },
  {
   "cell_type": "code",
   "execution_count": 21,
   "id": "a12a1581-1bf6-4b25-816c-4eabc4f611b1",
   "metadata": {
    "tags": []
   },
   "outputs": [
    {
     "name": "stdout",
     "output_type": "stream",
     "text": [
      "1\n"
     ]
    }
   ],
   "source": [
    "a,b=11,2\n",
    "print(a%b) # modulus func, it divides a  and b and provides the remainder"
   ]
  },
  {
   "cell_type": "code",
   "execution_count": 23,
   "id": "0cb19ac1-e8f4-4bad-895f-a7c7545c8767",
   "metadata": {
    "tags": []
   },
   "outputs": [
    {
     "name": "stdout",
     "output_type": "stream",
     "text": [
      "True\n"
     ]
    }
   ],
   "source": [
    "print(a!=b)"
   ]
  },
  {
   "cell_type": "code",
   "execution_count": 26,
   "id": "5364058a-dba2-4350-986a-516831ad209a",
   "metadata": {
    "tags": []
   },
   "outputs": [
    {
     "name": "stdout",
     "output_type": "stream",
     "text": [
      "True\n"
     ]
    }
   ],
   "source": [
    "c,k=\"True\",\"false\"\n",
    "print(c or k)"
   ]
  },
  {
   "cell_type": "code",
   "execution_count": 31,
   "id": "cdc9b6c2-e6c0-4ed7-b06d-34f2233ae8ce",
   "metadata": {
    "tags": []
   },
   "outputs": [
    {
     "name": "stdout",
     "output_type": "stream",
     "text": [
      "0\n"
     ]
    }
   ],
   "source": [
    "x, y=10, 4\n",
    "print(x & y)  # Bitiwse& operator"
   ]
  },
  {
   "cell_type": "code",
   "execution_count": 32,
   "id": "a972e59a-5c72-4a65-a308-63c286498ac9",
   "metadata": {
    "tags": []
   },
   "outputs": [
    {
     "name": "stdout",
     "output_type": "stream",
     "text": [
      "14\n"
     ]
    }
   ],
   "source": [
    "print(x | y)  # Bitwise or operator"
   ]
  },
  {
   "cell_type": "code",
   "execution_count": 33,
   "id": "ea461afd-ff8a-46fb-bb02-46ce45e0dba3",
   "metadata": {
    "tags": []
   },
   "outputs": [
    {
     "name": "stdout",
     "output_type": "stream",
     "text": [
      "20\n"
     ]
    }
   ],
   "source": [
    "a=10\n",
    "a+=10\n",
    "print(a)"
   ]
  },
  {
   "cell_type": "code",
   "execution_count": 34,
   "id": "ad077101-bec0-4994-b058-be50b19bc3ef",
   "metadata": {
    "tags": []
   },
   "outputs": [
    {
     "name": "stdout",
     "output_type": "stream",
     "text": [
      "True\n"
     ]
    }
   ],
   "source": [
    "a=23\n",
    "b=23\n",
    "print(a is b)"
   ]
  },
  {
   "cell_type": "code",
   "execution_count": 35,
   "id": "4d581685-c73c-4567-bd45-0c05e72bcf71",
   "metadata": {
    "tags": []
   },
   "outputs": [
    {
     "name": "stdout",
     "output_type": "stream",
     "text": [
      "False\n"
     ]
    }
   ],
   "source": [
    "a=\"kk\"\n",
    "b=\"KK\"\n",
    "print(a is b)"
   ]
  },
  {
   "cell_type": "code",
   "execution_count": 36,
   "id": "8a6e6b95-111c-4dfa-b337-16d587ba62bf",
   "metadata": {
    "tags": []
   },
   "outputs": [
    {
     "name": "stdout",
     "output_type": "stream",
     "text": [
      "False\n"
     ]
    }
   ],
   "source": [
    "l1=[1,2,3]\n",
    "l2=[1,2,3]\n",
    "print (l1 is l2)\n"
   ]
  },
  {
   "cell_type": "code",
   "execution_count": 37,
   "id": "1400a65a-190b-4d65-b703-f039670390bf",
   "metadata": {
    "tags": []
   },
   "outputs": [
    {
     "name": "stdout",
     "output_type": "stream",
     "text": [
      "True\n"
     ]
    }
   ],
   "source": [
    "print(1 in l1)"
   ]
  },
  {
   "cell_type": "code",
   "execution_count": 40,
   "id": "1cc114ab-a1cd-42ca-9393-73c52b0428af",
   "metadata": {
    "tags": []
   },
   "outputs": [
    {
     "name": "stdout",
     "output_type": "stream",
     "text": [
      "True\n"
     ]
    }
   ],
   "source": [
    "d={1: \"a\" ,2:\"b\"}\n",
    "print(1 in d)"
   ]
  },
  {
   "cell_type": "markdown",
   "id": "ca1b8b4f-349b-4bc2-a388-7de0c36c9f95",
   "metadata": {},
   "source": [
    "Python Conditions and if statements"
   ]
  },
  {
   "cell_type": "code",
   "execution_count": 41,
   "id": "a03cf605-c0a8-4e9d-b33a-f3348317e13b",
   "metadata": {
    "tags": []
   },
   "outputs": [
    {
     "name": "stdout",
     "output_type": "stream",
     "text": [
      "b is greater than a\n"
     ]
    }
   ],
   "source": [
    "a=33\n",
    "b=200\n",
    "if b>a:\n",
    "    print(\"b is greater than a\")"
   ]
  },
  {
   "cell_type": "markdown",
   "id": "b2538464-763c-44a5-9dc8-2a43f1efe5b9",
   "metadata": {},
   "source": [
    "Elif\n",
    "This keyword is pythons way of saying \"if the previous conditions were not true, then try this condition\""
   ]
  },
  {
   "cell_type": "code",
   "execution_count": 42,
   "id": "a59712d5-730b-4245-af45-1536123d1d7b",
   "metadata": {
    "tags": []
   },
   "outputs": [
    {
     "name": "stdout",
     "output_type": "stream",
     "text": [
      "a and b are equal\n"
     ]
    }
   ],
   "source": [
    "a=33\n",
    "b=33\n",
    "if b>a:\n",
    "    print(\"b is greater than a\")\n",
    "elif a==b:\n",
    "    print(\"a and b are equal\")"
   ]
  },
  {
   "cell_type": "markdown",
   "id": "7c20a2be-1eaa-46ff-b802-8941264bbf34",
   "metadata": {},
   "source": [
    "Else : The else keyword catches anything which isn't caught by the preceding conditions"
   ]
  },
  {
   "cell_type": "code",
   "execution_count": 43,
   "id": "fdffba25-140c-4521-a6cd-a34b9369546f",
   "metadata": {
    "tags": []
   },
   "outputs": [
    {
     "name": "stdout",
     "output_type": "stream",
     "text": [
      "a is greater than b\n"
     ]
    }
   ],
   "source": [
    "a=200\n",
    "b=33\n",
    "if b>a:\n",
    "    print(\"b is greater than a\")\n",
    "elif a==b:\n",
    "    print(\"a and b are equal\")\n",
    "else:\n",
    "    print(\"a is greater than b\")\n",
    "    "
   ]
  },
  {
   "cell_type": "code",
   "execution_count": null,
   "id": "f4394f55-cd2a-4018-8906-351398f9cecf",
   "metadata": {},
   "outputs": [],
   "source": []
  }
 ],
 "metadata": {
  "kernelspec": {
   "display_name": "Python 3 (ipykernel)",
   "language": "python",
   "name": "python3"
  },
  "language_info": {
   "codemirror_mode": {
    "name": "ipython",
    "version": 3
   },
   "file_extension": ".py",
   "mimetype": "text/x-python",
   "name": "python",
   "nbconvert_exporter": "python",
   "pygments_lexer": "ipython3",
   "version": "3.11.4"
  }
 },
 "nbformat": 4,
 "nbformat_minor": 5
}
