{
 "cells": [
  {
   "cell_type": "markdown",
   "id": "489162dd-4292-4596-8bcb-91f8355acddb",
   "metadata": {},
   "source": [
    "An important detail to take into account is that instance attributes will override class attributes with the same name, but only for that instance object."
   ]
  },
  {
   "cell_type": "code",
   "execution_count": 1,
   "id": "292be05d-1796-44b0-a506-e66482a36443",
   "metadata": {
    "tags": []
   },
   "outputs": [
    {
     "name": "stdout",
     "output_type": "stream",
     "text": [
      "myClass.myfloat = 8.6\n",
      "myinst1.myfloat = 8.6\n",
      "myinst1.__dict__ {}\n",
      "myinst2.myfloat = 8.6\n",
      "myinst2.__dict__ {}\n",
      "\n",
      "myClass.myfloat = 8.6\n",
      "myinst1.myfloat = 8.18\n",
      "myinst1.__dict__ {'myfloat': 8.18}\n",
      "myinst2.myfloat = 8.6\n",
      "myinst2.__dict__ {}\n",
      "\n",
      "myinst1.__class__.__dict__ {'__module__': '__main__', 'myfloat': 8.6, '__init__': <function myClass.__init__ at 0x00000250E3AAAFC0>, '__dict__': <attribute '__dict__' of 'myClass' objects>, '__weakref__': <attribute '__weakref__' of 'myClass' objects>, '__doc__': None}\n"
     ]
    }
   ],
   "source": [
    "#Define a  new dummy class with a class attribute\n",
    "class  myClass:\n",
    "    myfloat=8.6\n",
    "    def __init__(self):\n",
    "        pass\n",
    "#craete two instances of the class  \n",
    "myinst1=myClass()\n",
    "myinst2=myClass()\n",
    "print('myClass.myfloat =', myClass.myfloat)\n",
    "print('myinst1.myfloat =', myinst1.myfloat)\n",
    "print('myinst1.__dict__', myinst1.__dict__)\n",
    "print('myinst2.myfloat =', myinst2.myfloat)\n",
    "print('myinst2.__dict__', myinst2.__dict__)\n",
    "print()\n",
    "\n",
    "# Modify the myfloat attribute of the first instance\n",
    "myinst1.myfloat = 8.18\n",
    "print('myClass.myfloat =', myClass.myfloat)\n",
    "print('myinst1.myfloat =', myinst1.myfloat)\n",
    "print('myinst1.__dict__', myinst1.__dict__)\n",
    "print('myinst2.myfloat =', myinst2.myfloat)\n",
    "print('myinst2.__dict__', myinst2.__dict__)\n",
    "print()\n",
    "# Show the first instance class dictionary\n",
    "print('myinst1.__class__.__dict__', myinst1.__class__.__dict__)\n",
    "myClass.myfloat = 6.15"
   ]
  },
  {
   "cell_type": "markdown",
   "id": "a573f621-d27e-439e-bc38-8adfe6aba812",
   "metadata": {},
   "source": [
    "Functions as Attributes\n",
    "As briefly mentioned in the previous section, any Python object can be allocated as class attribute. This of course includes functions. To do so we could define a class and a function and manually assign the function object to the a class attribute as follows."
   ]
  },
  {
   "cell_type": "code",
   "execution_count": 2,
   "id": "d048427e-40cf-4330-bb7e-cb090151e649",
   "metadata": {
    "tags": []
   },
   "outputs": [
    {
     "name": "stdout",
     "output_type": "stream",
     "text": [
      "Hello!\n",
      "\n",
      "{'__module__': '__main__', '__dict__': <attribute '__dict__' of 'myClass' objects>, '__weakref__': <attribute '__weakref__' of 'myClass' objects>, '__doc__': None, 'myfunc': <function say_hello at 0x00000250E3AA8040>}\n"
     ]
    }
   ],
   "source": [
    "# Define a new dummy class\n",
    "class myClass:\n",
    "    pass\n",
    "\n",
    "# Define a simple function\n",
    "def say_hello():\n",
    "    print('Hello!')\n",
    "    \n",
    "# Assign the function to the class\n",
    "myClass.myfunc = say_hello\n",
    "# Execute the function\n",
    "myClass.myfunc()\n",
    "\n",
    "# Print the class dictionary\n",
    "print()\n",
    "print(myClass.__dict__)"
   ]
  },
  {
   "cell_type": "code",
   "execution_count": 7,
   "id": "49d8943a-b98b-4eef-a624-86d539277ae4",
   "metadata": {
    "tags": []
   },
   "outputs": [
    {
     "name": "stdout",
     "output_type": "stream",
     "text": [
      "5 - 2 = 3\n",
      "7 * 4 = 28\n",
      "6 / 2 = 3.0\n"
     ]
    }
   ],
   "source": [
    "# Define a calculator class\n",
    "class Calculator:\n",
    "    \n",
    "    def add(self, x, y):\n",
    "        return x + y\n",
    "    \n",
    "    def substract(x, y):\n",
    "        return x - y\n",
    "\n",
    "    def multiply(x, y):\n",
    "        return x * y\n",
    "    \n",
    "    def divide(x, y):\n",
    "        return x / y\n",
    "    \n",
    "# Print the class dictionary\n",
    "#print(Calculator.__dict__)\n",
    "#print('1 + 2 =', Calculator.add(1, 2))\n",
    "print('5 - 2 =', Calculator.substract(5, 2))\n",
    "print('7 * 4 =', Calculator.multiply(7, 4))\n",
    "print('6 / 2 =', Calculator.divide(6, 2))"
   ]
  },
  {
   "cell_type": "code",
   "execution_count": 8,
   "id": "2e3f964c-e37a-4117-9bfc-57299eb11328",
   "metadata": {
    "tags": []
   },
   "outputs": [
    {
     "name": "stdout",
     "output_type": "stream",
     "text": [
      "3\n"
     ]
    }
   ],
   "source": [
    "# Create an instance of the class\n",
    "calc = Calculator()\n",
    "\n",
    "try:\n",
    "    print(calc.add(1, 2))\n",
    "except Exception as error:\n",
    "    print_error(error)"
   ]
  },
  {
   "cell_type": "markdown",
   "id": "67e2f072-a7a0-4f3c-94f4-c74845bbfd37",
   "metadata": {},
   "source": [
    "To avoid this problem we can declare that the methods are static. This can be done using the @staticmethod decorator, which essentially tells the method not to expect the instance object as a first argument."
   ]
  },
  {
   "cell_type": "code",
   "execution_count": 9,
   "id": "90134943-f03a-4425-8520-3a9175596ec7",
   "metadata": {
    "tags": []
   },
   "outputs": [
    {
     "name": "stdout",
     "output_type": "stream",
     "text": [
      "{'__module__': '__main__', 'add': <staticmethod(<function staticCalculator.add at 0x00000250E47C1E40>)>, 'substract': <staticmethod(<function staticCalculator.substract at 0x00000250E47C0720>)>, 'multiply': <staticmethod(<function staticCalculator.multiply at 0x00000250E47C2520>)>, 'divide': <staticmethod(<function staticCalculator.divide at 0x00000250E47C2200>)>, '__dict__': <attribute '__dict__' of 'staticCalculator' objects>, '__weakref__': <attribute '__weakref__' of 'staticCalculator' objects>, '__doc__': None}\n"
     ]
    }
   ],
   "source": [
    "class staticCalculator:\n",
    "    \n",
    "    @staticmethod\n",
    "    def add(x, y):\n",
    "        return x + y\n",
    "    \n",
    "    @staticmethod\n",
    "    def substract(x, y):\n",
    "        return x - y\n",
    "    \n",
    "    @staticmethod\n",
    "    def multiply(x, y):\n",
    "        return x * y\n",
    "    \n",
    "    @staticmethod\n",
    "    def divide(x, y):\n",
    "        return x / y\n",
    "    \n",
    "# Print the class dictionary\n",
    "print(staticCalculator.__dict__)"
   ]
  },
  {
   "cell_type": "markdown",
   "id": "f0eae242-1dd3-406d-9341-0d7e2f669e7a",
   "metadata": {},
   "source": [
    "We can see that the methods are accessable direcly from the class or from an instance."
   ]
  },
  {
   "cell_type": "code",
   "execution_count": 10,
   "id": "63fa3ef2-6895-4fcf-82dc-32ae08faa903",
   "metadata": {
    "tags": []
   },
   "outputs": [
    {
     "name": "stdout",
     "output_type": "stream",
     "text": [
      "1 + 2 = 3\n",
      "1 + 2 = 3\n"
     ]
    }
   ],
   "source": [
    "# Create an instance of the class\n",
    "calc = staticCalculator()\n",
    "print('1 + 2 =', staticCalculator.add(1, 2))\n",
    "print('1 + 2 =', calc.add(1, 2))"
   ]
  },
  {
   "cell_type": "markdown",
   "id": "0d7b5c65-4112-4b17-a7ed-cc7a8567e5a3",
   "metadata": {},
   "source": [
    "Class Methods\n",
    "Similarly to static methods, we can use the @classmethod decorator to define a class method. This tells the method to expect the class object (cls) as the first argument to a given method rather than an instance object. This means class methods have access to all class attributes.\n",
    "\n",
    "In the following example we define a class for implementing the Stefan-Boltzmann law.Class Methods\n",
    "Similarly to static methods, we can use the @classmethod decorator to define a class method. This tells the method to expect the class object (cls) as the first argument to a given method rather than an instance object. This means class methods have access to all class attributes.\n",
    "\n",
    "In the following example we define a class for implementing the Stefan-Boltzmann law."
   ]
  },
  {
   "cell_type": "code",
   "execution_count": 22,
   "id": "49cc77ea-b1f3-4189-9335-dd945ddf25db",
   "metadata": {
    "tags": []
   },
   "outputs": [
    {
     "name": "stdout",
     "output_type": "stream",
     "text": [
      "{'__module__': '__main__', '__doc__': ' The Stefan–Boltzmann law\\n    ', 'sigma': 5.670367e-08, 'pi': 3.141592653589793, 'luminosity': <classmethod(<function StefBoltz.luminosity at 0x00000250E47C25C0>)>, 'radius': <classmethod(<function StefBoltz.radius at 0x00000250E48A8360>)>, 'temperature': <classmethod(<function StefBoltz.temperature at 0x00000250E48A94E0>)>, '__dict__': <attribute '__dict__' of 'StefBoltz' objects>, '__weakref__': <attribute '__weakref__' of 'StefBoltz' objects>}\n"
     ]
    }
   ],
   "source": [
    "import math\n",
    "class StefBoltz:\n",
    "    \"\"\" The Stefan–Boltzmann law\n",
    "    \"\"\"\n",
    "    \n",
    "    # The Stefan-Boltzmann constant\n",
    "    sigma = 5.670367e-8 # Wm^−2K^−4\n",
    "    pi= math.pi \n",
    "    @classmethod\n",
    "    def luminosity(cls, radius, effective_temp):\n",
    "     \n",
    "        return 4 * pi * radius ** 2 * cls.sigma * effective_temp ** 4\n",
    "    \n",
    "    @classmethod\n",
    "    def radius(cls, luminosity, effective_temp):\n",
    "    \n",
    "        return math.sqrt(luminosity / (4 * pi * cls.sigma * effective_temp ** 4))\n",
    "    \n",
    "    @classmethod\n",
    "    def temperature(cls, radius, luminosity):\n",
    "    \n",
    "        return (luminosity / (4 *pi * radius ** 2 * cls.sigma)) ** 0.25\n",
    "    \n",
    "# Print the class dictionary\n",
    "print(StefBoltz.__dict__)"
   ]
  },
  {
   "cell_type": "code",
   "execution_count": 18,
   "id": "7b49d325-3006-4537-ae03-846b34f46c9c",
   "metadata": {
    "tags": []
   },
   "outputs": [
    {
     "name": "stdout",
     "output_type": "stream",
     "text": [
      "The luminosity of the Sun is 3.95e+26W\n",
      "The radius of Alpha Centauri is 2.52e+09m\n"
     ]
    }
   ],
   "source": [
    "print('The luminosity of the Sun is {:.2e}W'.format(StefBoltz.luminosity(7e8, 5800)))\n",
    "print('The radius of Alpha Centauri is {:.2e}m'.format(StefBoltz.radius(4e28, 9700)))"
   ]
  },
  {
   "cell_type": "code",
   "execution_count": 19,
   "id": "1f74ee99-d444-4647-8c25-f551d1e6be0a",
   "metadata": {
    "tags": []
   },
   "outputs": [
    {
     "name": "stdout",
     "output_type": "stream",
     "text": [
      "The effective temperature of the Earth is 278.96K\n"
     ]
    }
   ],
   "source": [
    "sb = StefBoltz()\n",
    "print('The effective temperature of the Earth is {:.2f}K'\n",
    "      ''.format(sb.temperature(6.37e6, 1.75e+17)))\n"
   ]
  },
  {
   "cell_type": "markdown",
   "id": "c43ffb88-1f6f-4e61-9bb0-025dda487835",
   "metadata": {},
   "source": [
    "Finally, class methods can also access static methods and/or other class methods, meaning that a more complicated class structure can be designed that does not require instantitaion."
   ]
  },
  {
   "cell_type": "code",
   "execution_count": 20,
   "id": "c702fcef-c0e6-435a-80fd-c94d2f863f22",
   "metadata": {
    "tags": []
   },
   "outputs": [
    {
     "name": "stdout",
     "output_type": "stream",
     "text": [
      "Force = 10.0N\n"
     ]
    }
   ],
   "source": [
    "class Newton:\n",
    "    \n",
    "    @staticmethod\n",
    "    def velocity(displacement, time):\n",
    "        return displacement / time\n",
    "    \n",
    "    @classmethod\n",
    "    def acceleration(cls, displacement, time):\n",
    "        return cls.velocity(displacement, time) / time\n",
    "    \n",
    "    @classmethod\n",
    "    def force(cls, mass, displacement, time):\n",
    "        return mass * cls.acceleration(displacement, time)\n",
    "    \n",
    "print('Force = {}N'.format(Newton.force(5, 2, 1)))"
   ]
  },
  {
   "cell_type": "markdown",
   "id": "2bc29422-e84f-43c1-8db9-25e4bf9fe7cd",
   "metadata": {},
   "source": [
    "While this certainly adds some new functionality, we are still not using class methods to their full potential.\n",
    "\n",
    "\n",
    "Instance Methods¶\n",
    "In the previous section you learned how to instantiate a class using the self variable. You also saw that (if we don't add a special decorator) when an instance calls a method it expects an extra agrument. You might have already guessed that this argument is self and by defining methods with this argument we can pass instance attributes.\n",
    "\n",
    "This is the default and arguably most powerful way of using methods. In the following example we demonstrate a very simply class for doubling and tripling an input value."
   ]
  },
  {
   "cell_type": "code",
   "execution_count": 21,
   "id": "23d80616-2238-4299-adcb-8c3eeb6d952b",
   "metadata": {
    "tags": []
   },
   "outputs": [
    {
     "name": "stdout",
     "output_type": "stream",
     "text": [
      "Instance 1: 3 6 9\n",
      "Instance 2: 7 14 21\n"
     ]
    }
   ],
   "source": [
    "class simpleClass:\n",
    "    \n",
    "    def __init__(self, value):\n",
    "        self.value = value\n",
    "        \n",
    "    def double(self):\n",
    "        return self.value * 2\n",
    "    \n",
    "    def triple(self):\n",
    "        return self.value * 3\n",
    "\n",
    "# Create a class instance\n",
    "sc1 = simpleClass(3)\n",
    "sc2 = simpleClass(7)\n",
    "print('Instance 1:', sc1.value, sc1.double(), sc1.triple())\n",
    "print('Instance 2:', sc2.value, sc2.double(), sc2.triple())"
   ]
  },
  {
   "cell_type": "code",
   "execution_count": 5,
   "id": "9c5855aa-ac45-4868-a02f-6c8d4b9e59c5",
   "metadata": {},
   "outputs": [],
   "source": [
    "a=76.0\n",
    "if not(a>=0 and isinstance(a,float)):\n",
    "     print(\"True\")"
   ]
  },
  {
   "cell_type": "code",
   "execution_count": 7,
   "id": "fe10de03-98d2-4130-b035-2bbdb1bf825f",
   "metadata": {
    "tags": []
   },
   "outputs": [
    {
     "name": "stdout",
     "output_type": "stream",
     "text": [
      "yes\n",
      "bye\n",
      "KKKK\n"
     ]
    }
   ],
   "source": [
    "a=90\n",
    "if a>0:\n",
    "    print(\"yes\")\n",
    "    print(\"bye\")\n",
    "print(\"KKKK\")"
   ]
  },
  {
   "cell_type": "code",
   "execution_count": 18,
   "id": "4458566b-c2b4-4437-accc-ee1ce4cd3c94",
   "metadata": {
    "tags": []
   },
   "outputs": [
    {
     "name": "stdout",
     "output_type": "stream",
     "text": [
      "Addition result is: Right_Ascension:30, Declination:50.0, RedShift:132.70\n",
      "Subtraction result is: Right_Ascension:30, Declination:50.0, RedShift:64.10\n"
     ]
    }
   ],
   "source": [
    "#creating a class having galaxy properties \n",
    "class GalaxyProperties:\n",
    "    \n",
    "    def __init__(self, right_ascension, declination, redshift):\n",
    "        #making sure the instances permit appropriate values\n",
    "        if not(0<= right_ascension<360):     #value range is 0 to 360 deg  0 to 24hrs\n",
    "            raise ValueError(\"invalid range\")\n",
    "            \n",
    "        if not(-90<= declination<=90): # north pole +90 and south pole -90    \n",
    "            raise ValueError(\"Invalid range\")\n",
    "            \n",
    "        if not(redshift>=0 and isinstance(redshift,float)):  # Value should be float and non negative flating number\n",
    "            raise ValueError(\"Invalid range\")\n",
    "            \n",
    "        self.right_ascension=right_ascension\n",
    "        self.declination=declination\n",
    "        self.redshift=redshift\n",
    "        \n",
    "    def __add__(self, other):\n",
    "            \n",
    "        if not isinstance(other, GalaxyProperties):\n",
    "            raise TypeError(\"Can't proceed Addition \")\n",
    "                \n",
    "                #adding the attributes \n",
    "        update_right_ascension= (self.right_ascension + other.right_ascension)%360\n",
    "        update_dec=(self.declination + other.declination)/2\n",
    "        update_redshift=self.redshift + other.redshift\n",
    "                \n",
    "        return GalaxyProperties(update_right_ascension,update_dec,update_redshift)\n",
    "        \n",
    "    def __sub__(self,other):\n",
    "        if not isinstance(other, GalaxyProperties):\n",
    "            raise TypeError(\"Can't proceed Subtraction \")\n",
    "                \n",
    "                #subtracting the attributes \n",
    "        update_right_ascension= (self.right_ascension + other.right_ascension)%360\n",
    "        update_dec=(self.declination + other.declination)/2\n",
    "        update_redshift=self.redshift - other.redshift\n",
    "                \n",
    "        return GalaxyProperties(update_right_ascension,update_dec,update_redshift)\n",
    "    \n",
    "    def __str__(self):\n",
    "        return \"Right_Ascension:{}, Declination:{}, RedShift:{:.2f}\" .format(self.right_ascension,self.declination ,self.redshift)        \n",
    "    # creating class instances\n",
    "X= GalaxyProperties(245,65,98.4)\n",
    "Y= GalaxyProperties(145,35,34.3)\n",
    " \n",
    "        \n",
    "    #addition of two instances  attributes  \n",
    "A = X + Y\n",
    "#subtaction of two instances attributes\n",
    "S = X - Y\n",
    "    \n",
    "print(\"Addition result is: {}\".format(A))\n",
    "print(\"Subtraction result is: {}\".format(S))\n",
    "        "
   ]
  },
  {
   "cell_type": "code",
   "execution_count": 34,
   "id": "ffc3ea6a-46af-4ee1-b353-4dc8892e309d",
   "metadata": {},
   "outputs": [
    {
     "name": "stdout",
     "output_type": "stream",
     "text": [
      "Pet legs0\n",
      "doug legs10\n",
      "zzz\n",
      "zzz\n",
      "Doug is sleeping zzz\n",
      "zzz\n"
     ]
    },
    {
     "data": {
      "text/plain": [
       "'zzz'"
      ]
     },
     "execution_count": 34,
     "metadata": {},
     "output_type": "execute_result"
    }
   ],
   "source": [
    "class Pet:\n",
    "    number_of_legs=0\n",
    "    def sleep(self):\n",
    "        print(\"zzz\")\n",
    "        return \"zzz\"\n",
    "doug=Pet()\n",
    "doug.number_of_legs=10\n",
    "print(\"Pet legs{}\".format(Pet.number_of_legs))\n",
    "print(\"doug legs{}\".format(doug.number_of_legs))\n",
    "res=doug.sleep()\n",
    "print(\"Doug is sleeping \" + doug.sleep())\n",
    "#doug.sleep()\n",
    "doug.sleep()\n",
    "#print(aaa1)\n",
    "#print(\"Doug is sleeping \" + aaa1)"
   ]
  },
  {
   "cell_type": "code",
   "execution_count": 19,
   "id": "b9b1bb77-7d6d-4f4d-8eb3-a2a2ada05d06",
   "metadata": {
    "tags": []
   },
   "outputs": [
    {
     "name": "stdout",
     "output_type": "stream",
     "text": [
      "zzz\n",
      "I have 8 legs\n",
      "woof\n",
      "I have 5 legs\n"
     ]
    }
   ],
   "source": [
    "class pet:\n",
    "    number_of_legs=0\n",
    "    def sleep(self):\n",
    "        print(\"zzz\")\n",
    "    def count_legs(self):\n",
    "        print(\"I have {} legs\".format(self.number_of_legs))\n",
    "class dog(pet):\n",
    "    def bark(self):\n",
    "        print(\"woof\")\n",
    "fish=pet()\n",
    "fish.sleep()\n",
    "fish.number_of_legs=8\n",
    "fish.count_legs()\n",
    "\n",
    "doug=dog()\n",
    "doug.bark()\n",
    "doug.number_of_legs=5\n",
    "doug.count_legs()\n",
    " "
   ]
  },
  {
   "cell_type": "code",
   "execution_count": null,
   "id": "f06c0b67-fe18-40c5-bded-6d0cf31f8773",
   "metadata": {},
   "outputs": [],
   "source": []
  }
 ],
 "metadata": {
  "kernelspec": {
   "display_name": "Python 3 (ipykernel)",
   "language": "python",
   "name": "python3"
  },
  "language_info": {
   "codemirror_mode": {
    "name": "ipython",
    "version": 3
   },
   "file_extension": ".py",
   "mimetype": "text/x-python",
   "name": "python",
   "nbconvert_exporter": "python",
   "pygments_lexer": "ipython3",
   "version": "3.11.4"
  }
 },
 "nbformat": 4,
 "nbformat_minor": 5
}
