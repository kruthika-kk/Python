{
 "cells": [
  {
   "cell_type": "markdown",
   "id": "b791041b-b077-4227-8269-d395b10c5fe2",
   "metadata": {},
   "source": [
    "if else and else Statements"
   ]
  },
  {
   "cell_type": "code",
   "execution_count": 2,
   "id": "970f3173-2cee-4a7d-a4be-d7b244d1feaf",
   "metadata": {
    "tags": []
   },
   "outputs": [
    {
     "name": "stdout",
     "output_type": "stream",
     "text": [
      "a is greater than 5\n",
      " Great job !\n"
     ]
    }
   ],
   "source": [
    "a=10\n",
    "if a>5:          # 0,none, false are all treated as zero rest are non zero\n",
    "    print(\"a is greater than 5\")\n",
    "print(\" Great job !\")"
   ]
  },
  {
   "cell_type": "code",
   "execution_count": 3,
   "id": "63c5980e-e711-4dbf-91af-5f1b66c5c13a",
   "metadata": {
    "tags": []
   },
   "outputs": [
    {
     "name": "stdout",
     "output_type": "stream",
     "text": [
      "True \n"
     ]
    }
   ],
   "source": [
    "a=10\n",
    "if a>9:\n",
    "    print(\"True \")\n",
    "else:\n",
    "    print(\"False\")\n",
    "    "
   ]
  },
  {
   "cell_type": "code",
   "execution_count": 5,
   "id": "16606f87-c5c7-4d8f-9807-94a782995c9a",
   "metadata": {
    "tags": []
   },
   "outputs": [
    {
     "name": "stdout",
     "output_type": "stream",
     "text": [
      "You're wrong\n"
     ]
    }
   ],
   "source": [
    "num=10.5\n",
    "if num==10.8:\n",
    "    print(\"Yes your right\")\n",
    "elif num>11:\n",
    "    print(\" Hmm may be\")\n",
    "else:\n",
    "    print(\"You're wrong\")"
   ]
  },
  {
   "cell_type": "code",
   "execution_count": 6,
   "id": "dbe05191-8327-486d-bb45-d25ff7c36712",
   "metadata": {
    "tags": []
   },
   "outputs": [
    {
     "name": "stdout",
     "output_type": "stream",
     "text": [
      "No, the value is not equal to zero\n"
     ]
    }
   ],
   "source": [
    "num=23\n",
    "if num>20:\n",
    "    if num==0:\n",
    "        print(\" The value is zero\")\n",
    "    else:\n",
    "        print(\"No, the value is not equal to zero\")\n",
    "else:\n",
    "    print(\" You messed up\")\n",
    "        "
   ]
  },
  {
   "cell_type": "markdown",
   "id": "04eeba02-df76-458d-86b1-d61d0b0e81ed",
   "metadata": {},
   "source": [
    "Python Program to find the largest of the three numbers"
   ]
  },
  {
   "cell_type": "code",
   "execution_count": 7,
   "id": "3f2ef813-54ec-4dfd-adb6-1e043a3fac95",
   "metadata": {
    "tags": []
   },
   "outputs": [
    {
     "name": "stdout",
     "output_type": "stream",
     "text": [
      " The largest value is 122\n"
     ]
    }
   ],
   "source": [
    "a=12\n",
    "b=34\n",
    "c=122\n",
    "\n",
    "if a>b:\n",
    "    if a>c:\n",
    "        k=a\n",
    "    else:\n",
    "        k=c\n",
    "else:\n",
    "    if b>c:\n",
    "        k=b\n",
    "    else:\n",
    "        k=c\n",
    "print(\" The largest value is\", k)        "
   ]
  },
  {
   "cell_type": "markdown",
   "id": "2a1c1a76-db1d-49af-b6a9-f0695481ec09",
   "metadata": {},
   "source": [
    "Loops In Python\n",
    "The two primitive loop commands\n",
    "while --> we can execute the statments as long as the condition is true\n",
    "for"
   ]
  },
  {
   "cell_type": "code",
   "execution_count": 9,
   "id": "c79a18d7-6df2-4a18-af32-6ce0cc4565d1",
   "metadata": {
    "tags": []
   },
   "outputs": [
    {
     "name": "stdout",
     "output_type": "stream",
     "text": [
      "1\n",
      "2\n",
      "3\n",
      "4\n",
      "5\n"
     ]
    }
   ],
   "source": [
    "i=1\n",
    "while i<6:\n",
    "    print(i)\n",
    "    i+=1"
   ]
  },
  {
   "cell_type": "markdown",
   "id": "e7a48b50-d92b-4988-a6fd-9ea55fd7cfe9",
   "metadata": {},
   "source": [
    "Find the product of all numbers present in a list"
   ]
  },
  {
   "cell_type": "code",
   "execution_count": 12,
   "id": "2f66e179-3ba4-4299-9dcc-2267dc704e7c",
   "metadata": {
    "tags": []
   },
   "outputs": [
    {
     "name": "stdout",
     "output_type": "stream",
     "text": [
      "Product is : 12000000\n"
     ]
    }
   ],
   "source": [
    "lst=[10,20,30,40,50]\n",
    "product=1\n",
    "index=0\n",
    "while index<len(lst):\n",
    "    product*=lst[index]\n",
    "    index+=1\n",
    "print(\"Product is : {}\" .format(product))    "
   ]
  },
  {
   "cell_type": "code",
   "execution_count": 1,
   "id": "9a92f867-446b-4107-88bc-6dc9e224f3f1",
   "metadata": {},
   "outputs": [
    {
     "name": "stdout",
     "output_type": "stream",
     "text": [
      "1\n",
      "2\n",
      "3\n",
      "4\n",
      "5\n",
      "Good Bye\n"
     ]
    }
   ],
   "source": [
    "num=[1,2,3,4,5]\n",
    "index=0\n",
    "while index<len(num):\n",
    "    print(num[index])\n",
    "    index+=1\n",
    "else:\n",
    "    print(\"Good Bye\")"
   ]
  },
  {
   "cell_type": "markdown",
   "id": "a00aadcb-fee3-4152-985d-9020d30e37d6",
   "metadata": {},
   "source": [
    "Program to check whether the given number is prime or not"
   ]
  },
  {
   "cell_type": "code",
   "execution_count": 5,
   "id": "d98c7575-2d34-45b4-bd34-d54ee22cf5cd",
   "metadata": {},
   "outputs": [
    {
     "name": "stdin",
     "output_type": "stream",
     "text": [
      "Enter a number:  32\n"
     ]
    },
    {
     "name": "stdout",
     "output_type": "stream",
     "text": [
      "32 is not a prime number\n",
      "2 times 16 is 32\n"
     ]
    }
   ],
   "source": [
    "num= int(input(\"Enter a number: \"))\n",
    "# prime numbers are greater than 1\n",
    "if num>1:\n",
    "    # check for the factors\n",
    "    for i in range(2,num):\n",
    "        if(num%i) ==0:\n",
    "            print(num,\"is not a prime number\")\n",
    "            print(i,\"times\",num//i, \"is\",num)\n",
    "            break\n",
    "    else:\n",
    "        print(num,\"is a prime number\")\n",
    "else:\n",
    "        print(num, \" is not a prime number\")"
   ]
  },
  {
   "cell_type": "markdown",
   "id": "1de59aa6-8230-4c9b-8e48-6fffef1c9027",
   "metadata": {},
   "source": [
    "Find product of all numbers in a list"
   ]
  },
  {
   "cell_type": "code",
   "execution_count": 6,
   "id": "dc760d3b-2a10-4992-be3b-664524b621cf",
   "metadata": {
    "tags": []
   },
   "outputs": [
    {
     "name": "stdout",
     "output_type": "stream",
     "text": [
      "Product is :120\n"
     ]
    }
   ],
   "source": [
    "list=[1,2,3,4,5]\n",
    "product=1\n",
    "index=0\n",
    "for e in list:\n",
    "    product*=e\n",
    "print(\"Product is :{}\" .format(product))    "
   ]
  },
  {
   "cell_type": "markdown",
   "id": "89015517-d013-41fb-aad2-c907ae62aa36",
   "metadata": {},
   "source": [
    "Range in for loop"
   ]
  },
  {
   "cell_type": "code",
   "execution_count": 7,
   "id": "83d13591-81d1-47e0-b726-6bbfa7034e0f",
   "metadata": {
    "tags": []
   },
   "outputs": [
    {
     "name": "stdout",
     "output_type": "stream",
     "text": [
      "0\n",
      "1\n",
      "2\n",
      "3\n",
      "4\n",
      "5\n",
      "6\n",
      "7\n",
      "8\n",
      "9\n",
      "10\n",
      "11\n"
     ]
    }
   ],
   "source": [
    "for i in range(12):\n",
    "    print(i)\n"
   ]
  },
  {
   "cell_type": "code",
   "execution_count": 8,
   "id": "22482892-0078-4150-a427-a89e21d44c2e",
   "metadata": {
    "tags": []
   },
   "outputs": [
    {
     "name": "stdout",
     "output_type": "stream",
     "text": [
      "1\n",
      "3\n",
      "5\n",
      "7\n",
      "9\n",
      "11\n",
      "13\n",
      "15\n",
      "17\n",
      "19\n"
     ]
    }
   ],
   "source": [
    "for i in range(1,20,2):\n",
    "    print(i)"
   ]
  },
  {
   "cell_type": "code",
   "execution_count": 10,
   "id": "2d3b969d-76e3-452a-95b6-d22e5f68d40c",
   "metadata": {
    "tags": []
   },
   "outputs": [
    {
     "name": "stdout",
     "output_type": "stream",
     "text": [
      "Kruthika\n",
      "Sushil\n",
      "Bala\n",
      "Rinkal\n",
      "Krishna\n",
      "Hardik\n"
     ]
    }
   ],
   "source": [
    "list=[\"Kruthika\", \"Sushil\", \"Bala\",\"Rinkal\",\"Krishna\",\"Hardik\"]\n",
    "for index in range(len(list)):\n",
    "    print(list[index])"
   ]
  },
  {
   "cell_type": "code",
   "execution_count": 11,
   "id": "4e4cb441-05a3-468e-b923-3590550e2ad5",
   "metadata": {
    "tags": []
   },
   "outputs": [
    {
     "name": "stdout",
     "output_type": "stream",
     "text": [
      "a\n",
      "b\n",
      "c\n",
      "d\n"
     ]
    }
   ],
   "source": [
    "list=[\"a\",\"b\",\"c\",\"d\"]\n",
    "for e in list:\n",
    "    print(e)\n",
    "     "
   ]
  },
  {
   "cell_type": "markdown",
   "id": "1b931057-86e0-445b-b347-7623b52611f9",
   "metadata": {},
   "source": [
    "Python program to print all prime number within an interval"
   ]
  },
  {
   "cell_type": "code",
   "execution_count": 16,
   "id": "f7cd965f-e02c-4c75-8f11-f559f449418b",
   "metadata": {
    "tags": []
   },
   "outputs": [
    {
     "name": "stdout",
     "output_type": "stream",
     "text": [
      "prime numbers between 2 and 20 are\n",
      "2\n",
      "3\n",
      "5\n",
      "7\n",
      "11\n",
      "13\n",
      "17\n",
      "19\n"
     ]
    }
   ],
   "source": [
    "lower=2\n",
    "upper=20\n",
    "print(\"prime numbers between\", lower, \"and\", upper, \"are\")\n",
    "for num in range(lower,upper+1):\n",
    "    if num>1:\n",
    "        for i in range (2,num):\n",
    "            if(num % i) == 0:\n",
    "                break\n",
    "        else:\n",
    "            print(num)\n",
    "      "
   ]
  },
  {
   "cell_type": "markdown",
   "id": "041a4d2f-15f3-4397-8c26-547193ce6ef5",
   "metadata": {},
   "source": [
    "Break and Continue"
   ]
  },
  {
   "cell_type": "code",
   "execution_count": 17,
   "id": "4eacf7cf-86d0-48c5-94ab-d88b230a49ef",
   "metadata": {
    "tags": []
   },
   "outputs": [
    {
     "name": "stdout",
     "output_type": "stream",
     "text": [
      "I'm out from for loop\n"
     ]
    }
   ],
   "source": [
    "numbers=[1,2,3,4,5]\n",
    "for num in numbers:\n",
    "    if num==4:\n",
    "        break\n",
    "        print (num)\n",
    "print(\"I'm out from for loop\")        "
   ]
  },
  {
   "cell_type": "code",
   "execution_count": 19,
   "id": "56459020-7d5c-479c-bd0e-179236882a0d",
   "metadata": {
    "tags": []
   },
   "outputs": [
    {
     "name": "stdout",
     "output_type": "stream",
     "text": [
      "1\n",
      "3\n",
      "5\n",
      "I'm out of for loop\n"
     ]
    }
   ],
   "source": [
    "num=[1,2,3,4,5]\n",
    "for i in num:\n",
    "    if i%2==0:\n",
    "        continue\n",
    "    print(i)\n",
    "print(\"I'm out of for loop\")        "
   ]
  },
  {
   "cell_type": "code",
   "execution_count": null,
   "id": "f4774eac-f376-4f1f-a0e2-ed3ad9ded63e",
   "metadata": {},
   "outputs": [],
   "source": []
  }
 ],
 "metadata": {
  "kernelspec": {
   "display_name": "Python 3 (ipykernel)",
   "language": "python",
   "name": "python3"
  },
  "language_info": {
   "codemirror_mode": {
    "name": "ipython",
    "version": 3
   },
   "file_extension": ".py",
   "mimetype": "text/x-python",
   "name": "python",
   "nbconvert_exporter": "python",
   "pygments_lexer": "ipython3",
   "version": "3.11.4"
  }
 },
 "nbformat": 4,
 "nbformat_minor": 5
}
