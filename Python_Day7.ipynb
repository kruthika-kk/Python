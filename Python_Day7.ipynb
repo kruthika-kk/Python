{
 "cells": [
  {
   "cell_type": "markdown",
   "id": "57ecd388-64d3-4c63-a363-75a8b08610b0",
   "metadata": {},
   "source": [
    "Strings"
   ]
  },
  {
   "cell_type": "code",
   "execution_count": 2,
   "id": "ac361521-f650-4bd1-b818-2babbc716fc0",
   "metadata": {
    "tags": []
   },
   "outputs": [
    {
     "data": {
      "text/plain": [
       "8"
      ]
     },
     "execution_count": 2,
     "metadata": {},
     "output_type": "execute_result"
    }
   ],
   "source": [
    "letter= \"kruthika\"\n",
    "len(letter)"
   ]
  },
  {
   "cell_type": "markdown",
   "id": "3ad6c402-cdb0-46b9-a0eb-74f4d96868bc",
   "metadata": {},
   "source": [
    "Arrays"
   ]
  },
  {
   "cell_type": "code",
   "execution_count": 12,
   "id": "5d14b548-ca5e-4c21-80a1-d540ba83f08b",
   "metadata": {
    "tags": []
   },
   "outputs": [
    {
     "name": "stdout",
     "output_type": "stream",
     "text": [
      "10\n",
      "20\n",
      "30\n",
      "40\n",
      "50\n"
     ]
    }
   ],
   "source": [
    "from array import *\n",
    "array1= array('i',[10,20,30,40,50])\n",
    "for x in array1:\n",
    "    print(x)"
   ]
  },
  {
   "cell_type": "code",
   "execution_count": 13,
   "id": "bd2a8718-45b8-4712-a82c-aef66c09645f",
   "metadata": {
    "tags": []
   },
   "outputs": [
    {
     "name": "stdout",
     "output_type": "stream",
     "text": [
      "10\n",
      "30\n"
     ]
    }
   ],
   "source": [
    "from array import *\n",
    "array1= array('i',[10,20,30,40,50])\n",
    "print(array1[0])\n",
    "print(array1[2])"
   ]
  },
  {
   "cell_type": "markdown",
   "id": "cc9d40d8-809c-4316-9b60-7955eb22619b",
   "metadata": {},
   "source": [
    "Array insert"
   ]
  },
  {
   "cell_type": "code",
   "execution_count": 15,
   "id": "c64c8aa5-69d9-45d8-b145-beecc7db8328",
   "metadata": {
    "tags": []
   },
   "outputs": [
    {
     "name": "stdout",
     "output_type": "stream",
     "text": [
      "10\n",
      "60\n",
      "60\n",
      "20\n",
      "30\n",
      "40\n",
      "50\n"
     ]
    }
   ],
   "source": [
    "array1.insert(1,60)\n",
    "for x in array1:\n",
    "    print(x)"
   ]
  },
  {
   "cell_type": "markdown",
   "id": "e6bb0dd2-cc4f-4f3a-9dca-ae92fdb3abf4",
   "metadata": {},
   "source": [
    "We can remove the data from an array"
   ]
  },
  {
   "cell_type": "code",
   "execution_count": 17,
   "id": "995d1192-bd0a-418f-b415-824bd25cafb5",
   "metadata": {
    "tags": []
   },
   "outputs": [
    {
     "name": "stdout",
     "output_type": "stream",
     "text": [
      "10\n",
      "60\n",
      "20\n",
      "30\n",
      "40\n",
      "50\n"
     ]
    }
   ],
   "source": [
    "array1.remove(60)\n",
    "for x in array1:\n",
    "    print(x)"
   ]
  },
  {
   "cell_type": "markdown",
   "id": "46463e5c-ba56-4acf-9abb-4aa675caeddb",
   "metadata": {},
   "source": [
    "Fetching the array data present through index value"
   ]
  },
  {
   "cell_type": "code",
   "execution_count": 18,
   "id": "fe7fa281-1ee7-4177-9ebb-c1ab5ced908f",
   "metadata": {
    "tags": []
   },
   "outputs": [
    {
     "name": "stdout",
     "output_type": "stream",
     "text": [
      "4\n"
     ]
    }
   ],
   "source": [
    "print(array1.index(40))"
   ]
  },
  {
   "cell_type": "code",
   "execution_count": 19,
   "id": "56768856-e60e-47cd-af9d-3c45f554f13e",
   "metadata": {
    "tags": []
   },
   "outputs": [
    {
     "name": "stdout",
     "output_type": "stream",
     "text": [
      "10\n",
      "80\n",
      "20\n",
      "30\n",
      "40\n",
      "50\n"
     ]
    }
   ],
   "source": [
    "array1[1]=80\n",
    "for x in array1:\n",
    "    print(x)"
   ]
  },
  {
   "cell_type": "markdown",
   "id": "3a070e87-eb15-48c3-b6c1-a311edd21f94",
   "metadata": {},
   "source": [
    "List"
   ]
  },
  {
   "cell_type": "code",
   "execution_count": 23,
   "id": "132d36bb-9b80-45dc-b1b4-c83dfd7f3804",
   "metadata": {
    "tags": []
   },
   "outputs": [
    {
     "name": "stdout",
     "output_type": "stream",
     "text": [
      "List value at 0 index is: physics\n",
      " List2[1:5]: [2, 3, 4, 5]\n"
     ]
    }
   ],
   "source": [
    "list1=[\"physics\",\"Chemistry\", 1997, 1998]\n",
    "list2=[1, 2, 3, 4, 5, 6, 7]\n",
    "print(\"List value at 0 index is:\",list1[0])\n",
    "print(\" List2[1:5]:\" , list2[1:5])"
   ]
  },
  {
   "cell_type": "code",
   "execution_count": 25,
   "id": "5aad9e9f-91ae-49cc-a448-668038069dbd",
   "metadata": {
    "tags": []
   },
   "outputs": [
    {
     "name": "stdout",
     "output_type": "stream",
     "text": [
      "physics\n",
      "Chemistry\n",
      "Maths\n",
      "1998\n"
     ]
    }
   ],
   "source": [
    "list1[2]\n",
    "list1[2]=\"Maths\"\n",
    "for x in list1:\n",
    "    print(x)"
   ]
  },
  {
   "cell_type": "markdown",
   "id": "7e04dea3-7207-4114-861c-ce5e8f55aa81",
   "metadata": {},
   "source": [
    "Deleting the data present in list"
   ]
  },
  {
   "cell_type": "code",
   "execution_count": 26,
   "id": "0703c848-305a-4927-a312-a4dfc7333490",
   "metadata": {
    "tags": []
   },
   "outputs": [
    {
     "name": "stdout",
     "output_type": "stream",
     "text": [
      "physics\n",
      "Chemistry\n",
      "1998\n"
     ]
    }
   ],
   "source": [
    "del list1[2]\n",
    "for x in list1:\n",
    "    print(x)"
   ]
  },
  {
   "cell_type": "code",
   "execution_count": 27,
   "id": "ffa0ac3b-6bf3-49c1-9376-5a3c409dd518",
   "metadata": {
    "tags": []
   },
   "outputs": [
    {
     "name": "stdout",
     "output_type": "stream",
     "text": [
      "1\n",
      "2\n",
      "3\n",
      "4\n",
      "5\n",
      "6\n"
     ]
    }
   ],
   "source": [
    "lista=[1,2,3]\n",
    "listb=[4,5,6]\n",
    "addlist=lista + listb\n",
    "for x in addlist:\n",
    "    print(x)"
   ]
  },
  {
   "cell_type": "code",
   "execution_count": 28,
   "id": "9bdb98bb-4e03-442c-98bf-93af095aaeba",
   "metadata": {
    "tags": []
   },
   "outputs": [
    {
     "name": "stdout",
     "output_type": "stream",
     "text": [
      "Hi !\n",
      "Hi !\n",
      "Hi !\n",
      "Hi !\n"
     ]
    }
   ],
   "source": [
    "repition=[\"Hi !\"]*4\n",
    "for x in repition:\n",
    "    print(x)"
   ]
  },
  {
   "cell_type": "code",
   "execution_count": 29,
   "id": "bc70471d-3d89-4df8-8601-1fe1a1cae645",
   "metadata": {
    "tags": []
   },
   "outputs": [
    {
     "data": {
      "text/plain": [
       "4"
      ]
     },
     "execution_count": 29,
     "metadata": {},
     "output_type": "execute_result"
    }
   ],
   "source": [
    "len(repition)"
   ]
  },
  {
   "cell_type": "code",
   "execution_count": 30,
   "id": "6e1a4527-327f-4d3a-ad19-5df5e2df6c9a",
   "metadata": {
    "tags": []
   },
   "outputs": [
    {
     "name": "stdout",
     "output_type": "stream",
     "text": [
      "Tup at index 0 physics\n",
      "tup[1:5] ('maths', 'eng', 1, 2)\n"
     ]
    }
   ],
   "source": [
    "tup1=(\"physics\", \"maths\", \"eng\", 1, 2, 3)\n",
    "tup2=(1,2,3,4,5,6,7,8,9,10)\n",
    "print(\"Tup at index 0\",tup1[0])\n",
    "print(\"tup[1:5]\",tup1[1:5])"
   ]
  },
  {
   "cell_type": "code",
   "execution_count": 35,
   "id": "0c7b9bb5-4a6a-4450-a2ae-f6eb5373265b",
   "metadata": {
    "tags": []
   },
   "outputs": [],
   "source": [
    "#tup1[1]=\"bio\"  # this is not supported because tuple is immutable"
   ]
  },
  {
   "cell_type": "code",
   "execution_count": 32,
   "id": "d4000faa-336e-4ee8-96ae-8734cc7e9f1f",
   "metadata": {
    "tags": []
   },
   "outputs": [
    {
     "name": "stdout",
     "output_type": "stream",
     "text": [
      "('physics', 'maths', 'eng', 1, 2, 3, 1, 2, 3, 4, 5, 6, 7, 8, 9, 10)\n"
     ]
    }
   ],
   "source": [
    "tup3= tup1 + tup2\n",
    "print(tup3)"
   ]
  },
  {
   "cell_type": "code",
   "execution_count": 34,
   "id": "c6c116a7-f81b-48e9-ad8b-ebb180cd59ce",
   "metadata": {
    "tags": []
   },
   "outputs": [
    {
     "name": "stdout",
     "output_type": "stream",
     "text": [
      "10\n",
      "30\n"
     ]
    }
   ],
   "source": [
    "from array import *\n",
    "array1= array('i',[10,20,30,40,50])\n",
    "print(array1[0])\n",
    "print(array1[2])"
   ]
  },
  {
   "cell_type": "code",
   "execution_count": 36,
   "id": "e8dc7c37-00f8-489e-b458-18df70c1071e",
   "metadata": {
    "tags": []
   },
   "outputs": [
    {
     "name": "stdout",
     "output_type": "stream",
     "text": [
      "('kish', 8, 4, 3, 5, 7)\n"
     ]
    },
    {
     "ename": "NameError",
     "evalue": "name 'tup4' is not defined",
     "output_type": "error",
     "traceback": [
      "\u001b[1;31m---------------------------------------------------------------------------\u001b[0m",
      "\u001b[1;31mNameError\u001b[0m                                 Traceback (most recent call last)",
      "Cell \u001b[1;32mIn[36], line 4\u001b[0m\n\u001b[0;32m      2\u001b[0m \u001b[38;5;28mprint\u001b[39m(tup4) \u001b[38;5;66;03m# before deleting\u001b[39;00m\n\u001b[0;32m      3\u001b[0m \u001b[38;5;28;01mdel\u001b[39;00m tup4  \u001b[38;5;66;03m#del to delete the tup4\u001b[39;00m\n\u001b[1;32m----> 4\u001b[0m \u001b[38;5;28mprint\u001b[39m(tup4)\n",
      "\u001b[1;31mNameError\u001b[0m: name 'tup4' is not defined"
     ]
    }
   ],
   "source": [
    "tup4=(\"kish\", 8,4,3,5,7)\n",
    "print(tup4) # before deleting\n",
    "del tup4  #del to delete the tup4\n",
    "print(tup4) # after deletion printing the tup4"
   ]
  },
  {
   "cell_type": "markdown",
   "id": "efd2a0a7-15ce-4c15-91c0-3045a6d9e214",
   "metadata": {},
   "source": [
    "Dictionary"
   ]
  },
  {
   "cell_type": "code",
   "execution_count": 40,
   "id": "c9edffad-d6d3-4723-bb40-932576331afd",
   "metadata": {
    "tags": []
   },
   "outputs": [
    {
     "name": "stdout",
     "output_type": "stream",
     "text": [
      "Dict[name] : Kruthika\n",
      "Dict[Age]:  23\n"
     ]
    }
   ],
   "source": [
    "dict={\"Name\": \"Kruthika\", \"Age\":\"23\", \"Address\" :\" Santa clara\"}\n",
    "print(\"Dict[name] :\", dict['Name'])\n",
    "print (\"Dict[Age]: \", dict['Age'] )"
   ]
  },
  {
   "cell_type": "code",
   "execution_count": 42,
   "id": "d4be99da-dd5c-4158-b307-43d625d190b9",
   "metadata": {
    "tags": []
   },
   "outputs": [
    {
     "ename": "KeyError",
     "evalue": "'Name'",
     "output_type": "error",
     "traceback": [
      "\u001b[1;31m---------------------------------------------------------------------------\u001b[0m",
      "\u001b[1;31mKeyError\u001b[0m                                  Traceback (most recent call last)",
      "Cell \u001b[1;32mIn[42], line 2\u001b[0m\n\u001b[0;32m      1\u001b[0m dict1\u001b[38;5;241m=\u001b[39m{\u001b[38;5;124m\"\u001b[39m\u001b[38;5;124mColor\u001b[39m\u001b[38;5;124m\"\u001b[39m: \u001b[38;5;124m\"\u001b[39m\u001b[38;5;124mWhite\u001b[39m\u001b[38;5;124m\"\u001b[39m, \u001b[38;5;124m\"\u001b[39m\u001b[38;5;124mbranch\u001b[39m\u001b[38;5;124m\"\u001b[39m: \u001b[38;5;124m\"\u001b[39m\u001b[38;5;124mCSE\u001b[39m\u001b[38;5;124m\"\u001b[39m}\n\u001b[1;32m----> 2\u001b[0m \u001b[38;5;28mprint\u001b[39m(\u001b[38;5;124m\"\u001b[39m\u001b[38;5;124mDict[name] :\u001b[39m\u001b[38;5;124m\"\u001b[39m, dict1[\u001b[38;5;124m'\u001b[39m\u001b[38;5;124mName\u001b[39m\u001b[38;5;124m'\u001b[39m])\n",
      "\u001b[1;31mKeyError\u001b[0m: 'Name'"
     ]
    }
   ],
   "source": [
    "dict1={\"Color\": \"White\", \"branch\": \"CSE\"}\n",
    "print(\"Dict[name] :\", dict1['Name'])   # provides error when we try to access the key which is not present in the list"
   ]
  },
  {
   "cell_type": "code",
   "execution_count": 43,
   "id": "4913a162-b5c4-40ff-8a73-4e906bdbb9c1",
   "metadata": {
    "tags": []
   },
   "outputs": [
    {
     "name": "stdout",
     "output_type": "stream",
     "text": [
      "dict['Age']:  8\n",
      "dict['School']:  DPS School\n"
     ]
    }
   ],
   "source": [
    "dict = {'Name': 'Zara', 'Age': 7, 'Class': 'First'}\n",
    "dict['Age'] = 8; # update existing entry\n",
    "dict['School'] = \"DPS School\"; # Add new entry\n",
    "print (\"dict['Age']: \", dict['Age'])\n",
    "print (\"dict['School']: \", dict['School'])\n"
   ]
  },
  {
   "cell_type": "code",
   "execution_count": 2,
   "id": "843eebb5-8e44-4cdb-bdb4-2ffc880295c2",
   "metadata": {},
   "outputs": [
    {
     "name": "stdout",
     "output_type": "stream",
     "text": [
      "{'Name': 'zara', 'Age': '23', 'Sex': 'Female'}\n"
     ]
    },
    {
     "ename": "NameError",
     "evalue": "name 'dict2' is not defined",
     "output_type": "error",
     "traceback": [
      "\u001b[1;31m---------------------------------------------------------------------------\u001b[0m",
      "\u001b[1;31mNameError\u001b[0m                                 Traceback (most recent call last)",
      "Cell \u001b[1;32mIn[2], line 4\u001b[0m\n\u001b[0;32m      2\u001b[0m \u001b[38;5;28mprint\u001b[39m (dict2) \u001b[38;5;66;03m# before deleting\u001b[39;00m\n\u001b[0;32m      3\u001b[0m \u001b[38;5;28;01mdel\u001b[39;00m dict2\n\u001b[1;32m----> 4\u001b[0m \u001b[38;5;28mprint\u001b[39m(dict2)\n",
      "\u001b[1;31mNameError\u001b[0m: name 'dict2' is not defined"
     ]
    }
   ],
   "source": [
    "dict2={\"Name\":\"zara\",\"Age\":\"23\",\"Sex\":\"Female\"}\n",
    "print (dict2) # before deleting\n",
    "del dict2\n",
    "print(dict2) #after deleting"
   ]
  },
  {
   "cell_type": "code",
   "execution_count": null,
   "id": "9bc10853-3c23-453c-8a64-eb062e2a7ed8",
   "metadata": {},
   "outputs": [],
   "source": []
  }
 ],
 "metadata": {
  "kernelspec": {
   "display_name": "Python 3 (ipykernel)",
   "language": "python",
   "name": "python3"
  },
  "language_info": {
   "codemirror_mode": {
    "name": "ipython",
    "version": 3
   },
   "file_extension": ".py",
   "mimetype": "text/x-python",
   "name": "python",
   "nbconvert_exporter": "python",
   "pygments_lexer": "ipython3",
   "version": "3.11.4"
  }
 },
 "nbformat": 4,
 "nbformat_minor": 5
}
