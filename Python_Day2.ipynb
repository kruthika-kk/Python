{
 "cells": [
  {
   "cell_type": "markdown",
   "id": "9c967bca-4481-4d47-96ba-97be675fd96f",
   "metadata": {},
   "source": [
    "Data Types in Python"
   ]
  },
  {
   "cell_type": "code",
   "execution_count": 2,
   "id": "b506d72d-235e-407c-9fb8-674d7ef03a61",
   "metadata": {
    "tags": []
   },
   "outputs": [
    {
     "name": "stdout",
     "output_type": "stream",
     "text": [
      "10\n",
      "9\n",
      "Kruthika\n"
     ]
    }
   ],
   "source": [
    "a=10\n",
    "y=9\n",
    "c=\"Kruthika\"\n",
    "print(a)\n",
    "print(y)\n",
    "print(c)\n"
   ]
  },
  {
   "cell_type": "code",
   "execution_count": 3,
   "id": "0a148019-21f2-441c-8d67-1c22bae08acf",
   "metadata": {
    "tags": []
   },
   "outputs": [
    {
     "name": "stdout",
     "output_type": "stream",
     "text": [
      "10\n",
      "29\n",
      "Kruthika\n"
     ]
    }
   ],
   "source": [
    "a,b,c=10,29,\"Kruthika\"\n",
    "print(a)\n",
    "print(b)\n",
    "print(c)\n"
   ]
  },
  {
   "cell_type": "markdown",
   "id": "e974188f-d891-4e55-8746-a358583be6de",
   "metadata": {},
   "source": [
    "Address of of variable"
   ]
  },
  {
   "cell_type": "code",
   "execution_count": 4,
   "id": "37cb326e-1adc-438b-bf15-3ac066a3a649",
   "metadata": {
    "tags": []
   },
   "outputs": [
    {
     "name": "stdout",
     "output_type": "stream",
     "text": [
      "140714114913256\n"
     ]
    }
   ],
   "source": [
    "a=7\n",
    "print(id(a))\n"
   ]
  },
  {
   "cell_type": "code",
   "execution_count": 6,
   "id": "43cb9951-8d9f-4c9b-86a8-9af16086205c",
   "metadata": {
    "tags": []
   },
   "outputs": [
    {
     "name": "stdout",
     "output_type": "stream",
     "text": [
      "140714114913256\n"
     ]
    }
   ],
   "source": [
    "b=7\n",
    "print(id(b))"
   ]
  },
  {
   "cell_type": "code",
   "execution_count": 7,
   "id": "cf62a600-6e20-403c-bd12-fefbd6926c4b",
   "metadata": {
    "tags": []
   },
   "outputs": [
    {
     "name": "stdout",
     "output_type": "stream",
     "text": [
      "2 is of type <class 'int'>\n"
     ]
    }
   ],
   "source": [
    "a=2\n",
    "print(a, \"is of type\", type(a))"
   ]
  },
  {
   "cell_type": "code",
   "execution_count": 8,
   "id": "93a1f3e8-a48f-4162-bf16-94c861e357aa",
   "metadata": {
    "tags": []
   },
   "outputs": [
    {
     "name": "stdout",
     "output_type": "stream",
     "text": [
      "(1+2j) is of type <class 'complex'>\n"
     ]
    }
   ],
   "source": [
    "a=1+2j\n",
    "print(a,\"is of type\",type(a))"
   ]
  },
  {
   "cell_type": "code",
   "execution_count": 9,
   "id": "9f0d2136-4437-42f0-a573-3a0e09f00958",
   "metadata": {
    "tags": []
   },
   "outputs": [
    {
     "name": "stdout",
     "output_type": "stream",
     "text": [
      "(1+2j) is complex number?\n",
      "True\n",
      "(1+2j) is of type <class 'complex'>\n"
     ]
    }
   ],
   "source": [
    "a=1+2j\n",
    "print(a,\"is complex number?\")\n",
    "print(isinstance(1+2j,complex))\n",
    "print(a,\"is of type\",type(a))"
   ]
  },
  {
   "cell_type": "code",
   "execution_count": 10,
   "id": "84cc4a16-4dbc-413e-93b2-ef8037ffa6dc",
   "metadata": {
    "tags": []
   },
   "outputs": [
    {
     "name": "stdout",
     "output_type": "stream",
     "text": [
      "I'm a string \n"
     ]
    }
   ],
   "source": [
    "s=\"I'm a string \"\n",
    "print(s)"
   ]
  },
  {
   "cell_type": "code",
   "execution_count": 11,
   "id": "342da9dc-15ac-49eb-b443-67d8b060a56e",
   "metadata": {
    "tags": []
   },
   "outputs": [
    {
     "name": "stdout",
     "output_type": "stream",
     "text": [
      "Good morning kruthika\n"
     ]
    }
   ],
   "source": [
    "s='Good morning kruthika'\n",
    "print(s)"
   ]
  },
  {
   "cell_type": "code",
   "execution_count": 12,
   "id": "fc353abc-56dc-40e7-8285-60eeb6de6a29",
   "metadata": {
    "tags": []
   },
   "outputs": [
    {
     "name": "stdout",
     "output_type": "stream",
     "text": [
      "G\n"
     ]
    }
   ],
   "source": [
    "print(s[0])"
   ]
  },
  {
   "cell_type": "code",
   "execution_count": 13,
   "id": "a4afafc5-42de-44da-ab68-cf2dd934ad1a",
   "metadata": {
    "tags": []
   },
   "outputs": [
    {
     "name": "stdout",
     "output_type": "stream",
     "text": [
      "a\n"
     ]
    }
   ],
   "source": [
    "print(s[-1])"
   ]
  },
  {
   "cell_type": "code",
   "execution_count": 14,
   "id": "8d50a140-e050-41ab-a3f6-bc70f31304a9",
   "metadata": {
    "tags": []
   },
   "outputs": [
    {
     "name": "stdout",
     "output_type": "stream",
     "text": [
      "k\n"
     ]
    }
   ],
   "source": [
    "print(s[len(s)-2])"
   ]
  },
  {
   "cell_type": "code",
   "execution_count": 15,
   "id": "15f71ed8-8bfe-451b-bfc8-bc3d17c1c46f",
   "metadata": {
    "tags": []
   },
   "outputs": [
    {
     "data": {
      "text/plain": [
       "'morning kruthika'"
      ]
     },
     "execution_count": 15,
     "metadata": {},
     "output_type": "execute_result"
    }
   ],
   "source": [
    "s[5:]"
   ]
  },
  {
   "cell_type": "code",
   "execution_count": 16,
   "id": "27a93f92-d4d3-42d3-a3fe-aa07e4006526",
   "metadata": {
    "tags": []
   },
   "outputs": [
    {
     "data": {
      "text/plain": [
       "'mo'"
      ]
     },
     "execution_count": 16,
     "metadata": {},
     "output_type": "execute_result"
    }
   ],
   "source": [
    "s[5:7]\n"
   ]
  },
  {
   "cell_type": "markdown",
   "id": "d332f4ea-9756-47c4-b0e5-6f6380cd9e82",
   "metadata": {},
   "source": [
    "Python List"
   ]
  },
  {
   "cell_type": "code",
   "execution_count": 18,
   "id": "f05892f7-9073-4a91-971a-5b54227d5d15",
   "metadata": {
    "tags": []
   },
   "outputs": [
    {
     "name": "stdout",
     "output_type": "stream",
     "text": [
      "[10, 9.8, 'Kruthika']\n"
     ]
    }
   ],
   "source": [
    "a=[10,9.8,\"Kruthika\"]\n",
    "print(a)"
   ]
  },
  {
   "cell_type": "code",
   "execution_count": 20,
   "id": "600bbec4-fbea-42b4-a9b9-7903a2960fdc",
   "metadata": {
    "tags": []
   },
   "outputs": [
    {
     "name": "stdout",
     "output_type": "stream",
     "text": [
      "Kruthika\n"
     ]
    }
   ],
   "source": [
    "print(a[2])"
   ]
  },
  {
   "cell_type": "code",
   "execution_count": 25,
   "id": "837a5469-33eb-4c72-83fe-51ecf8f2ca97",
   "metadata": {
    "tags": []
   },
   "outputs": [
    {
     "name": "stdout",
     "output_type": "stream",
     "text": [
      "[10, 'Sushil', 'Kruthika']\n"
     ]
    }
   ],
   "source": [
    "a[1]=\"Sushil\" \n",
    "a[2]=\"Kruthika\"\n",
    "print(a)   #Mutable"
   ]
  },
  {
   "cell_type": "code",
   "execution_count": null,
   "id": "a231a08a-46a1-4c83-96f5-fa99d29c4a29",
   "metadata": {},
   "outputs": [],
   "source": []
  }
 ],
 "metadata": {
  "kernelspec": {
   "display_name": "Python 3 (ipykernel)",
   "language": "python",
   "name": "python3"
  },
  "language_info": {
   "codemirror_mode": {
    "name": "ipython",
    "version": 3
   },
   "file_extension": ".py",
   "mimetype": "text/x-python",
   "name": "python",
   "nbconvert_exporter": "python",
   "pygments_lexer": "ipython3",
   "version": "3.11.4"
  }
 },
 "nbformat": 4,
 "nbformat_minor": 5
}
