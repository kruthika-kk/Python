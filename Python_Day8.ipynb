{
 "cells": [
  {
   "cell_type": "markdown",
   "id": "d1d68233-672c-476e-83b5-62e1a47cb6f1",
   "metadata": {},
   "source": [
    "Python - 2-D Array\n",
    "Two dimensional array is an array within an array. It is an array of arrays. In this type of array the\n",
    "position position of an data element is referred by two indices instead of one. So it represents  a table with\n",
    "rows an dcolumns of data.\n",
    "In the below example of a two dimensional  array, observer  that each array element itself is also an\n",
    "array.\n",
    "Consider the  example of recording  temperatures 4 times a day, every day. Some times the\n",
    "recording instrument  may be faulty and we fail to record data. Such data for 4 days can be\n",
    "presented as a two dimensional array as below.\n",
    "Day 1 - 11 12 5 2\n",
    "Day 2 - 15 6 10\n",
    "Day 3 - 10 8 12 5\n",
    "Day 4 - 12 15 8 6\n",
    "The above data can be represented as a two dimensional array as below.\n"
   ]
  },
  {
   "cell_type": "code",
   "execution_count": null,
   "id": "37f61235-f40c-45d5-99a3-05180ce157b0",
   "metadata": {},
   "outputs": [],
   "source": [
    "T=[[11,12,5,2],[15,6,10],[10,8,12,5],[12,5,8,6]]"
   ]
  },
  {
   "cell_type": "markdown",
   "id": "92fb7659-df1a-4d4b-b2b9-1250237d8b7c",
   "metadata": {},
   "source": [
    "Accessing Values\n",
    "The data elements in two  dimesnional arrays can be accessed  using two indices. One index\n",
    "referring to the main or parent array and another index referring to the position of the data element\n",
    "in the inner array.If we mention only one index then the entire inner array is printed for that index\n",
    "position."
   ]
  },
  {
   "cell_type": "code",
   "execution_count": 1,
   "id": "832705f2-2161-4ca1-af29-75ff3c3f11a6",
   "metadata": {
    "tags": []
   },
   "outputs": [
    {
     "name": "stdout",
     "output_type": "stream",
     "text": [
      "[11, 12, 5, 2]\n",
      "10\n"
     ]
    }
   ],
   "source": [
    "from array import*\n",
    "T=[[11,12,5,2],[15,6,10],[10,8,12,5],[12,5,8,6]]\n",
    "print(T[0])\n",
    "print(T[1][2])"
   ]
  },
  {
   "cell_type": "markdown",
   "id": "b03bf463-97c0-4210-ad31-0e5d9bb07850",
   "metadata": {},
   "source": [
    "To print out the entire two dimensional array we can use python for loop as shown below. We use\n",
    "end of line to print out the values in different rows.\n"
   ]
  },
  {
   "cell_type": "code",
   "execution_count": 6,
   "id": "12c0a80e-838e-4261-a85c-db86c76446dc",
   "metadata": {
    "tags": []
   },
   "outputs": [
    {
     "name": "stdout",
     "output_type": "stream",
     "text": [
      "11 12 5 2 \n",
      "15 6 10 \n",
      "10 8 12 5 \n",
      "12 5 8 6 \n"
     ]
    }
   ],
   "source": [
    "T=[[11,12,5,2],[15,6,10],[10,8,12,5],[12,5,8,6]]\n",
    "for r in T:\n",
    "    for c in r:\n",
    "        print(c, end=\" \")\n",
    "    print()    "
   ]
  },
  {
   "cell_type": "markdown",
   "id": "8ed6a66a-fc6c-4ef7-89f5-4860d55170e5",
   "metadata": {},
   "source": [
    "Inserting Values\n",
    "We can insert new data elements at specific position by using the insert()  method and specifying\n",
    "the index."
   ]
  },
  {
   "cell_type": "code",
   "execution_count": 11,
   "id": "84d749df-7b02-43fa-9e50-0a8c6746d626",
   "metadata": {
    "tags": []
   },
   "outputs": [
    {
     "name": "stdout",
     "output_type": "stream",
     "text": [
      "11 12 5 2 \n",
      "15 6 10 \n",
      "10 8 12 5 \n",
      "12 5 8 6 \n",
      "**********\n",
      "11 12 5 2 \n",
      "15 6 10 \n",
      "1 2 3 4 \n",
      "10 8 12 5 \n",
      "12 5 8 6 \n"
     ]
    }
   ],
   "source": [
    "from array import *\n",
    "T=[[11,12,5,2],[15,6,10],[10,8,12,5],[12,5,8,6]]\n",
    "for r in T:            #before inserting\n",
    "    for c in r:\n",
    "        print(c, end=\" \")\n",
    "    print()  \n",
    "print(\"**********\")\n",
    "T.insert(2,[1,2,3,4])\n",
    "for r in T:      # After inserting\n",
    "    for c in r:\n",
    "        print(c, end=\" \")\n",
    "    print()    "
   ]
  },
  {
   "cell_type": "markdown",
   "id": "bcf3a362-a0eb-46b7-8562-62d92b020e0a",
   "metadata": {},
   "source": [
    "Updating Values\n",
    "We can update the entire inner array or some specific data elements of the inner array by reassigning the values using the array index."
   ]
  },
  {
   "cell_type": "code",
   "execution_count": 12,
   "id": "f71ec364-cce4-4793-86c8-e3f3275f218b",
   "metadata": {
    "tags": []
   },
   "outputs": [
    {
     "name": "stdout",
     "output_type": "stream",
     "text": [
      "11 12 5 2 \n",
      "15 6 10 \n",
      "10 8 12 5 \n",
      "12 5 8 6 \n",
      "**********\n",
      "11 12 5 7 \n",
      "11 6 \n",
      "10 8 12 5 \n",
      "12 5 8 6 \n"
     ]
    }
   ],
   "source": [
    "from array import *\n",
    "T=[[11,12,5,2],[15,6,10],[10,8,12,5],[12,5,8,6]]\n",
    "for r in T:            #before updation\n",
    "    for c in r:\n",
    "        print(c, end=\" \")\n",
    "    print()  \n",
    "print(\"**********\")\n",
    "\n",
    "T[1]=[11,6]\n",
    "T[0][3]=7\n",
    "for r in T:            #After updation\n",
    "    for c in r:\n",
    "        print(c, end=\" \")\n",
    "    print() "
   ]
  },
  {
   "cell_type": "markdown",
   "id": "92b4988d-285f-4278-8f02-f795f3328c87",
   "metadata": {},
   "source": [
    "Deleting the Values\n",
    "We can delete the entire inner array or some specific data elements of the inner array by reassigning the values using the del() method with index. But in case you need to remove specific data elements in one of the inner arrays, then use the update process described above."
   ]
  },
  {
   "cell_type": "code",
   "execution_count": 14,
   "id": "9740180e-9b73-4a13-9bc4-d2876e7cd2a6",
   "metadata": {
    "tags": []
   },
   "outputs": [
    {
     "name": "stdout",
     "output_type": "stream",
     "text": [
      "11 12 5 2 \n",
      "15 6 10 \n",
      "10 8 12 5 \n",
      "12 5 8 6 \n",
      "**********\n",
      "11 12 5 \n",
      "15 6 10 \n",
      "10 8 12 5 \n"
     ]
    }
   ],
   "source": [
    "from array import *\n",
    "T=[[11,12,5,2],[15,6,10],[10,8,12,5],[12,5,8,6]]\n",
    "for r in T:            #before deletion\n",
    "    for c in r:\n",
    "        print(c, end=\" \")\n",
    "    print()  \n",
    "print(\"**********\")\n",
    "del T[3]\n",
    "del T[0][3]\n",
    "for r in T:            #After deletion\n",
    "    for c in r:\n",
    "        print(c, end=\" \")\n",
    "    print()  \n"
   ]
  },
  {
   "cell_type": "code",
   "execution_count": null,
   "id": "e4950b47-c7fa-4cab-b2c4-4d4e87a529bc",
   "metadata": {},
   "outputs": [],
   "source": []
  }
 ],
 "metadata": {
  "kernelspec": {
   "display_name": "Python 3 (ipykernel)",
   "language": "python",
   "name": "python3"
  },
  "language_info": {
   "codemirror_mode": {
    "name": "ipython",
    "version": 3
   },
   "file_extension": ".py",
   "mimetype": "text/x-python",
   "name": "python",
   "nbconvert_exporter": "python",
   "pygments_lexer": "ipython3",
   "version": "3.11.4"
  }
 },
 "nbformat": 4,
 "nbformat_minor": 5
}
