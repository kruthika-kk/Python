{
 "cells": [
  {
   "cell_type": "markdown",
   "id": "570393d7-ccea-4532-9f60-f7582eb17962",
   "metadata": {},
   "source": [
    "My first Python programming"
   ]
  },
  {
   "cell_type": "code",
   "execution_count": 1,
   "id": "57e547e1-dcb9-4f62-83ac-d08c879bb541",
   "metadata": {
    "tags": []
   },
   "outputs": [
    {
     "name": "stdout",
     "output_type": "stream",
     "text": [
      " Hello World\n"
     ]
    }
   ],
   "source": [
    "print(\" Hello World\")"
   ]
  },
  {
   "cell_type": "markdown",
   "id": "92c3f9a9-5df7-467b-8a39-1ff9bc5c2f72",
   "metadata": {},
   "source": [
    "Keywords & Identifiers\n"
   ]
  },
  {
   "cell_type": "code",
   "execution_count": 2,
   "id": "b74b6a11-ef12-4166-a278-3bf47fbd8fe5",
   "metadata": {
    "tags": []
   },
   "outputs": [
    {
     "name": "stdout",
     "output_type": "stream",
     "text": [
      "['False', 'None', 'True', 'and', 'as', 'assert', 'async', 'await', 'break', 'class', 'continue', 'def', 'del', 'elif', 'else', 'except', 'finally', 'for', 'from', 'global', 'if', 'import', 'in', 'is', 'lambda', 'nonlocal', 'not', 'or', 'pass', 'raise', 'return', 'try', 'while', 'with', 'yield']\n",
      "No of keywords 35\n"
     ]
    }
   ],
   "source": [
    "import keyword as kw\n",
    "print(kw.kwlist)\n",
    "print(\"No of keywords\",len(kw.kwlist))"
   ]
  },
  {
   "cell_type": "markdown",
   "id": "2e4c3a03-b95d-4481-9141-96e39a904b3c",
   "metadata": {},
   "source": [
    "Standard IO In Python"
   ]
  },
  {
   "cell_type": "code",
   "execution_count": 3,
   "id": "084c067a-d830-48de-b0ed-0d29796f6414",
   "metadata": {
    "tags": []
   },
   "outputs": [
    {
     "name": "stdout",
     "output_type": "stream",
     "text": [
      "value of a is 10\n",
      "value of a is 10\n"
     ]
    }
   ],
   "source": [
    "a=10\n",
    "print(\"value of a is\",a)\n",
    "print(\"value of a is\" + \" \" +str(a)) "
   ]
  },
  {
   "cell_type": "code",
   "execution_count": 4,
   "id": "d29def3f-86ac-4bdb-9527-71498bca163e",
   "metadata": {
    "tags": []
   },
   "outputs": [
    {
     "name": "stdout",
     "output_type": "stream",
     "text": [
      "the value of a is 10 and b is 19 \n"
     ]
    }
   ],
   "source": [
    "a=10; b=19\n",
    "print(\"the value of a is {} and b is {} \" .format(a,b))"
   ]
  },
  {
   "cell_type": "code",
   "execution_count": 5,
   "id": "460c138e-6e65-4f8d-95b7-a418d7ab13c2",
   "metadata": {
    "tags": []
   },
   "outputs": [
    {
     "name": "stdout",
     "output_type": "stream",
     "text": [
      "the value of a is 19 and b is 10 \n"
     ]
    }
   ],
   "source": [
    "a=10; b=19\n",
    "print(\"the value of a is {1} and b is {0} \" .format(a,b))"
   ]
  },
  {
   "cell_type": "code",
   "execution_count": 7,
   "id": "f502ce1a-952f-4179-8b66-2f41ac94c685",
   "metadata": {
    "tags": []
   },
   "outputs": [
    {
     "name": "stdout",
     "output_type": "stream",
     "text": [
      "Hello Da Qi,Good Evening\n"
     ]
    }
   ],
   "source": [
    "print(\"Hello {name},{greeting}\".format(name=\"Da Qi\", greeting=\"Good Evening\"))"
   ]
  },
  {
   "cell_type": "code",
   "execution_count": 9,
   "id": "a8495839-82a8-4782-a48e-5703e5c77928",
   "metadata": {
    "tags": []
   },
   "outputs": [
    {
     "name": "stdout",
     "output_type": "stream",
     "text": [
      " The story of Kruthika's Python Programming preperation is Awesomne\n"
     ]
    }
   ],
   "source": [
    "print(\" The story of {0} {1} preperation is {other}\".format(\"Kruthika's\",\"Python Programming\",  other=\"Awesomne\"))"
   ]
  },
  {
   "cell_type": "code",
   "execution_count": 10,
   "id": "d7dd0152-89d9-46cf-a32f-4c53587ab1fd",
   "metadata": {
    "tags": []
   },
   "outputs": [
    {
     "name": "stdin",
     "output_type": "stream",
     "text": [
      "Insert something 5\n"
     ]
    },
    {
     "name": "stdout",
     "output_type": "stream",
     "text": [
      "5\n"
     ]
    }
   ],
   "source": [
    "n=int(input(\"Insert something\"))\n",
    "print(n)"
   ]
  },
  {
   "cell_type": "code",
   "execution_count": 11,
   "id": "e509eb1c-d9d6-494b-b508-017767633c1f",
   "metadata": {
    "tags": []
   },
   "outputs": [
    {
     "name": "stdin",
     "output_type": "stream",
     "text": [
      " 12 33\n"
     ]
    },
    {
     "name": "stdout",
     "output_type": "stream",
     "text": [
      "12\n",
      "33\n"
     ]
    }
   ],
   "source": [
    "n,k=map(int,input().split())\n",
    "print(n)\n",
    "print(k)"
   ]
  },
  {
   "cell_type": "code",
   "execution_count": 12,
   "id": "61ab85c2-c474-4c66-97c3-fbcb5c08cc41",
   "metadata": {
    "tags": []
   },
   "outputs": [
    {
     "name": "stdin",
     "output_type": "stream",
     "text": [
      " Hello World\n"
     ]
    },
    {
     "name": "stdout",
     "output_type": "stream",
     "text": [
      "Hello\n",
      "World\n"
     ]
    }
   ],
   "source": [
    "n,k=map(str,input().split())\n",
    "print(n)\n",
    "print(k)"
   ]
  },
  {
   "cell_type": "code",
   "execution_count": 13,
   "id": "e5ee47ae-728a-4dd8-96c4-e9f51c33155c",
   "metadata": {
    "tags": []
   },
   "outputs": [
    {
     "name": "stdin",
     "output_type": "stream",
     "text": [
      " Apples,Oranges\n"
     ]
    },
    {
     "name": "stdout",
     "output_type": "stream",
     "text": [
      "Apples\n",
      "Oranges\n"
     ]
    }
   ],
   "source": [
    "n,k=map(str,input().split(','))\n",
    "print(n)\n",
    "print(k)"
   ]
  },
  {
   "cell_type": "markdown",
   "id": "07c38b76-4568-4257-ad39-15b4bc528a44",
   "metadata": {},
   "source": [
    "Comments and Indentation"
   ]
  },
  {
   "cell_type": "code",
   "execution_count": 16,
   "id": "4c67cf62-e9f3-4514-afea-be248438d724",
   "metadata": {
    "tags": []
   },
   "outputs": [
    {
     "name": "stdout",
     "output_type": "stream",
     "text": [
      "Hello, Good Morning !\n"
     ]
    }
   ],
   "source": [
    "#printing the hello message\n",
    "print(\"Hello, Good Morning !\")"
   ]
  },
  {
   "cell_type": "code",
   "execution_count": 18,
   "id": "b06d9926-8d51-40df-b4d9-d3ecae74200f",
   "metadata": {
    "tags": []
   },
   "outputs": [
    {
     "name": "stdout",
     "output_type": "stream",
     "text": [
      "Hey! hope you got the multiline comment format\n"
     ]
    }
   ],
   "source": [
    "\"\"\"This is multiline comment\n",
    "and we use this format\"\"\"\n",
    "print(\"Hey! hope you got the multiline comment format\")"
   ]
  },
  {
   "cell_type": "markdown",
   "id": "74a1639d-a55d-48ff-a3c0-43d55b33b473",
   "metadata": {},
   "source": [
    "Intendation example"
   ]
  },
  {
   "cell_type": "code",
   "execution_count": 22,
   "id": "688a187a-c941-4e3f-b330-11c0b57c2773",
   "metadata": {
    "tags": []
   },
   "outputs": [
    {
     "name": "stdout",
     "output_type": "stream",
     "text": [
      "yes its true a is greater than 5\n",
      " Good Job!\n"
     ]
    }
   ],
   "source": [
    "a=6 \n",
    "if(a>5):\n",
    "    print(\"yes its true a is greater than 5\")\n",
    "if(a<1):\n",
    "    print (\"a is smaller than 1\")\n",
    "print(\" Good Job!\")    "
   ]
  },
  {
   "cell_type": "code",
   "execution_count": null,
   "id": "969fb8d8-364c-47e6-9448-d5d5360832fd",
   "metadata": {},
   "outputs": [],
   "source": []
  }
 ],
 "metadata": {
  "kernelspec": {
   "display_name": "Python 3 (ipykernel)",
   "language": "python",
   "name": "python3"
  },
  "language_info": {
   "codemirror_mode": {
    "name": "ipython",
    "version": 3
   },
   "file_extension": ".py",
   "mimetype": "text/x-python",
   "name": "python",
   "nbconvert_exporter": "python",
   "pygments_lexer": "ipython3",
   "version": "3.11.4"
  }
 },
 "nbformat": 4,
 "nbformat_minor": 5
}
